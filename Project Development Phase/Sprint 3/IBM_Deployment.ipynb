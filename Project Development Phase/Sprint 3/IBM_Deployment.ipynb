{
  "cells": [
    {
      "cell_type": "markdown",
      "metadata": {
        "id": "4UsxGCMWzviN"
      },
      "source": [
        "# Install And Import Necessary Libreries"
      ]
    },
    {
      "cell_type": "code",
      "execution_count": 1,
      "metadata": {
        "colab": {
          "base_uri": "https://localhost:8080/"
        },
        "id": "R9JkR1JfzaTw",
        "outputId": "05ebe887-5902-4883-a00d-a4d17c60cc45"
      },
      "outputs": [
        {
          "name": "stdout",
          "output_type": "stream",
          "text": [
            "Defaulting to user installation because normal site-packages is not writeable\n",
            "Collecting watson-machine-learning-client\n",
            "  Downloading watson_machine_learning_client-1.0.391-py3-none-any.whl (538 kB)\n",
            "\u001b[2K     \u001b[90m━━━━━━━━━━━━━━━━━━━━━━━━━━━━━━━━━━━━━\u001b[0m \u001b[32m538.9/538.9 kB\u001b[0m \u001b[31m879.5 kB/s\u001b[0m eta \u001b[36m0:00:00\u001b[0m00:01\u001b[0m00:01\u001b[0m\n",
            "\u001b[?25hCollecting boto3\n",
            "  Downloading boto3-1.26.2-py3-none-any.whl (132 kB)\n",
            "\u001b[2K     \u001b[90m━━━━━━━━━━━━━━━━━━━━━━━━━━━━━━━━━━━━━━━\u001b[0m \u001b[32m132.5/132.5 kB\u001b[0m \u001b[31m2.8 MB/s\u001b[0m eta \u001b[36m0:00:00\u001b[0ma \u001b[36m0:00:01\u001b[0m\n",
            "\u001b[?25hCollecting tabulate\n",
            "  Downloading tabulate-0.9.0-py3-none-any.whl (35 kB)\n",
            "Requirement already satisfied: urllib3 in /home/dhinesh/.local/lib/python3.10/site-packages (from watson-machine-learning-client) (1.26.12)\n",
            "Collecting lomond\n",
            "  Downloading lomond-0.3.3-py2.py3-none-any.whl (35 kB)\n",
            "Requirement already satisfied: requests in /home/dhinesh/.local/lib/python3.10/site-packages (from watson-machine-learning-client) (2.28.1)\n",
            "Requirement already satisfied: pandas in /home/dhinesh/.local/lib/python3.10/site-packages (from watson-machine-learning-client) (1.5.0)\n",
            "Requirement already satisfied: certifi in /home/dhinesh/.local/lib/python3.10/site-packages (from watson-machine-learning-client) (2022.9.24)\n",
            "Collecting ibm-cos-sdk\n",
            "  Downloading ibm-cos-sdk-2.12.0.tar.gz (55 kB)\n",
            "\u001b[2K     \u001b[90m━━━━━━━━━━━━━━━━━━━━━━━━━━━━━━━━━━━━━━━\u001b[0m \u001b[32m55.6/55.6 kB\u001b[0m \u001b[31m469.3 kB/s\u001b[0m eta \u001b[36m0:00:00\u001b[0m \u001b[36m0:00:01\u001b[0m\n",
            "\u001b[?25h  Preparing metadata (setup.py) ... \u001b[?25ldone\n",
            "\u001b[?25hCollecting tqdm\n",
            "  Downloading tqdm-4.64.1-py2.py3-none-any.whl (78 kB)\n",
            "\u001b[2K     \u001b[90m━━━━━━━━━━━━━━━━━━━━━━━━━━━━━━━━━━━━━━━\u001b[0m \u001b[32m78.5/78.5 kB\u001b[0m \u001b[31m397.9 kB/s\u001b[0m eta \u001b[36m0:00:00\u001b[0m \u001b[36m0:00:01\u001b[0m\n",
            "\u001b[?25hCollecting s3transfer<0.7.0,>=0.6.0\n",
            "  Downloading s3transfer-0.6.0-py3-none-any.whl (79 kB)\n",
            "\u001b[2K     \u001b[90m━━━━━━━━━━━━━━━━━━━━━━━━━━━━━━━━━━━━━━━\u001b[0m \u001b[32m79.6/79.6 kB\u001b[0m \u001b[31m851.1 kB/s\u001b[0m eta \u001b[36m0:00:00\u001b[0ma \u001b[36m0:00:01\u001b[0m\n",
            "\u001b[?25hCollecting botocore<1.30.0,>=1.29.2\n",
            "  Downloading botocore-1.29.2-py3-none-any.whl (9.8 MB)\n",
            "\u001b[2K     \u001b[90m━━━━━━━━━━━━━━━━━━━━━━━━━━━━━━━━━━━━━━━━\u001b[0m \u001b[32m9.8/9.8 MB\u001b[0m \u001b[31m1.8 MB/s\u001b[0m eta \u001b[36m0:00:00\u001b[0m00:01\u001b[0m00:01\u001b[0m\n",
            "\u001b[?25hCollecting jmespath<2.0.0,>=0.7.1\n",
            "  Downloading jmespath-1.0.1-py3-none-any.whl (20 kB)\n",
            "Collecting ibm-cos-sdk-core==2.12.0\n",
            "  Downloading ibm-cos-sdk-core-2.12.0.tar.gz (956 kB)\n",
            "\u001b[2K     \u001b[90m━━━━━━━━━━━━━━━━━━━━━━━━━━━━━━━━━━━━━━━\u001b[0m \u001b[32m956.8/956.8 kB\u001b[0m \u001b[31m4.1 MB/s\u001b[0m eta \u001b[36m0:00:00\u001b[0m00:01\u001b[0m00:01\u001b[0m\n",
            "\u001b[?25h  Preparing metadata (setup.py) ... \u001b[?25ldone\n",
            "\u001b[?25hCollecting ibm-cos-sdk-s3transfer==2.12.0\n",
            "  Downloading ibm-cos-sdk-s3transfer-2.12.0.tar.gz (135 kB)\n",
            "\u001b[2K     \u001b[90m━━━━━━━━━━━━━━━━━━━━━━━━━━━━━━━━━━━━━\u001b[0m \u001b[32m135.7/135.7 kB\u001b[0m \u001b[31m945.4 kB/s\u001b[0m eta \u001b[36m0:00:00\u001b[0m00:01\u001b[0m00:01\u001b[0m\n",
            "\u001b[?25h  Preparing metadata (setup.py) ... \u001b[?25ldone\n",
            "\u001b[?25hCollecting jmespath<2.0.0,>=0.7.1\n",
            "  Downloading jmespath-0.10.0-py2.py3-none-any.whl (24 kB)\n",
            "Requirement already satisfied: python-dateutil<3.0.0,>=2.8.2 in /home/dhinesh/.local/lib/python3.10/site-packages (from ibm-cos-sdk-core==2.12.0->ibm-cos-sdk->watson-machine-learning-client) (2.8.2)\n",
            "Requirement already satisfied: charset-normalizer<3,>=2 in /home/dhinesh/.local/lib/python3.10/site-packages (from requests->watson-machine-learning-client) (2.1.1)\n",
            "Requirement already satisfied: idna<4,>=2.5 in /home/dhinesh/.local/lib/python3.10/site-packages (from requests->watson-machine-learning-client) (3.4)\n",
            "Requirement already satisfied: six>=1.10.0 in /usr/lib/python3/dist-packages (from lomond->watson-machine-learning-client) (1.16.0)\n",
            "Requirement already satisfied: pytz>=2020.1 in /home/dhinesh/.local/lib/python3.10/site-packages (from pandas->watson-machine-learning-client) (2022.4)\n",
            "Requirement already satisfied: numpy>=1.21.0 in /home/dhinesh/.local/lib/python3.10/site-packages (from pandas->watson-machine-learning-client) (1.23.3)\n",
            "Building wheels for collected packages: ibm-cos-sdk, ibm-cos-sdk-core, ibm-cos-sdk-s3transfer\n",
            "  Building wheel for ibm-cos-sdk (setup.py) ... \u001b[?25ldone\n",
            "\u001b[?25h  Created wheel for ibm-cos-sdk: filename=ibm_cos_sdk-2.12.0-py3-none-any.whl size=73910 sha256=aa5d81734bf7232d115834292fc483c6885c35752c5df784206a8bbbac803b4f\n",
            "  Stored in directory: /home/dhinesh/.cache/pip/wheels/53/89/f8/e1f16b3874af57e2253ee18a43804db6879c3aa22c58d91b82\n",
            "  Building wheel for ibm-cos-sdk-core (setup.py) ... \u001b[?25ldone\n",
            "\u001b[?25h  Created wheel for ibm-cos-sdk-core: filename=ibm_cos_sdk_core-2.12.0-py3-none-any.whl size=562947 sha256=7c696d60a988e4c201701f7cfdd915134c27bb7ee0360002da9ed959f79626b2\n",
            "  Stored in directory: /home/dhinesh/.cache/pip/wheels/72/24/c4/b930b91571fe120c206726f2055a26c95ae9fa323763d42b63\n",
            "  Building wheel for ibm-cos-sdk-s3transfer (setup.py) ... \u001b[?25ldone\n",
            "\u001b[?25h  Created wheel for ibm-cos-sdk-s3transfer: filename=ibm_cos_sdk_s3transfer-2.12.0-py3-none-any.whl size=89765 sha256=f25d42037be133e05fb91965a46e2da5d62954f61e29407fe8ee5f6ea827500f\n",
            "  Stored in directory: /home/dhinesh/.cache/pip/wheels/3f/bf/b6/4c18868ed27b686342eab42be15f0c0ac136d2dd9fb86b6aa8\n",
            "Successfully built ibm-cos-sdk ibm-cos-sdk-core ibm-cos-sdk-s3transfer\n",
            "Installing collected packages: tqdm, tabulate, lomond, jmespath, ibm-cos-sdk-core, botocore, s3transfer, ibm-cos-sdk-s3transfer, ibm-cos-sdk, boto3, watson-machine-learning-client\n",
            "Successfully installed boto3-1.26.2 botocore-1.29.2 ibm-cos-sdk-2.12.0 ibm-cos-sdk-core-2.12.0 ibm-cos-sdk-s3transfer-2.12.0 jmespath-0.10.0 lomond-0.3.3 s3transfer-0.6.0 tabulate-0.9.0 tqdm-4.64.1 watson-machine-learning-client-1.0.391\n",
            "Defaulting to user installation because normal site-packages is not writeable\n",
            "Collecting ibm_watson_machine_learning\n",
            "  Downloading ibm_watson_machine_learning-1.0.257-py3-none-any.whl (1.8 MB)\n",
            "\u001b[2K     \u001b[90m━━━━━━━━━━━━━━━━━━━━━━━━━━━━━━━━━━━━━━━━\u001b[0m \u001b[32m1.8/1.8 MB\u001b[0m \u001b[31m1.1 MB/s\u001b[0m eta \u001b[36m0:00:00\u001b[0m00:01\u001b[0m00:01\u001b[0m0m\n",
            "\u001b[?25hRequirement already satisfied: ibm-cos-sdk==2.12.* in /home/dhinesh/.local/lib/python3.10/site-packages (from ibm_watson_machine_learning) (2.12.0)\n",
            "Collecting pandas<1.5.0,>=0.24.2\n",
            "  Using cached pandas-1.4.4-cp310-cp310-manylinux_2_17_x86_64.manylinux2014_x86_64.whl (11.6 MB)\n",
            "Requirement already satisfied: packaging in /home/dhinesh/.local/lib/python3.10/site-packages (from ibm_watson_machine_learning) (21.3)\n",
            "Requirement already satisfied: lomond in /home/dhinesh/.local/lib/python3.10/site-packages (from ibm_watson_machine_learning) (0.3.3)\n",
            "Requirement already satisfied: requests in /home/dhinesh/.local/lib/python3.10/site-packages (from ibm_watson_machine_learning) (2.28.1)\n",
            "Requirement already satisfied: importlib-metadata in /home/dhinesh/.local/lib/python3.10/site-packages (from ibm_watson_machine_learning) (5.0.0)\n",
            "Requirement already satisfied: urllib3 in /home/dhinesh/.local/lib/python3.10/site-packages (from ibm_watson_machine_learning) (1.26.12)\n",
            "Requirement already satisfied: tabulate in /home/dhinesh/.local/lib/python3.10/site-packages (from ibm_watson_machine_learning) (0.9.0)\n",
            "Requirement already satisfied: certifi in /home/dhinesh/.local/lib/python3.10/site-packages (from ibm_watson_machine_learning) (2022.9.24)\n",
            "Requirement already satisfied: ibm-cos-sdk-core==2.12.0 in /home/dhinesh/.local/lib/python3.10/site-packages (from ibm-cos-sdk==2.12.*->ibm_watson_machine_learning) (2.12.0)\n",
            "Requirement already satisfied: jmespath<1.0.0,>=0.10.0 in /home/dhinesh/.local/lib/python3.10/site-packages (from ibm-cos-sdk==2.12.*->ibm_watson_machine_learning) (0.10.0)\n",
            "Requirement already satisfied: ibm-cos-sdk-s3transfer==2.12.0 in /home/dhinesh/.local/lib/python3.10/site-packages (from ibm-cos-sdk==2.12.*->ibm_watson_machine_learning) (2.12.0)\n",
            "Requirement already satisfied: python-dateutil<3.0.0,>=2.8.2 in /home/dhinesh/.local/lib/python3.10/site-packages (from ibm-cos-sdk-core==2.12.0->ibm-cos-sdk==2.12.*->ibm_watson_machine_learning) (2.8.2)\n",
            "Requirement already satisfied: numpy>=1.21.0 in /home/dhinesh/.local/lib/python3.10/site-packages (from pandas<1.5.0,>=0.24.2->ibm_watson_machine_learning) (1.23.3)\n",
            "Requirement already satisfied: pytz>=2020.1 in /home/dhinesh/.local/lib/python3.10/site-packages (from pandas<1.5.0,>=0.24.2->ibm_watson_machine_learning) (2022.4)\n",
            "Requirement already satisfied: charset-normalizer<3,>=2 in /home/dhinesh/.local/lib/python3.10/site-packages (from requests->ibm_watson_machine_learning) (2.1.1)\n",
            "Requirement already satisfied: idna<4,>=2.5 in /home/dhinesh/.local/lib/python3.10/site-packages (from requests->ibm_watson_machine_learning) (3.4)\n",
            "Requirement already satisfied: zipp>=0.5 in /home/dhinesh/.local/lib/python3.10/site-packages (from importlib-metadata->ibm_watson_machine_learning) (3.8.1)\n",
            "Requirement already satisfied: six>=1.10.0 in /usr/lib/python3/dist-packages (from lomond->ibm_watson_machine_learning) (1.16.0)\n",
            "Requirement already satisfied: pyparsing!=3.0.5,>=2.0.2 in /home/dhinesh/.local/lib/python3.10/site-packages (from packaging->ibm_watson_machine_learning) (3.0.9)\n",
            "Installing collected packages: pandas, ibm_watson_machine_learning\n",
            "  Attempting uninstall: pandas\n",
            "    Found existing installation: pandas 1.5.0\n",
            "    Uninstalling pandas-1.5.0:\n",
            "      Successfully uninstalled pandas-1.5.0\n",
            "Successfully installed ibm_watson_machine_learning-1.0.257 pandas-1.4.4\n"
          ]
        }
      ],
      "source": [
        "!pip install watson-machine-learning-client\n",
        "!pip install ibm_watson_machine_learning"
      ]
    },
    {
      "cell_type": "code",
      "execution_count": 2,
      "metadata": {
        "id": "g-K3e7lSz41R"
      },
      "outputs": [
        {
          "name": "stderr",
          "output_type": "stream",
          "text": [
            "2022-11-05 00:25:03.567755: I tensorflow/core/platform/cpu_feature_guard.cc:193] This TensorFlow binary is optimized with oneAPI Deep Neural Network Library (oneDNN) to use the following CPU instructions in performance-critical operations:  AVX2 FMA\n",
            "To enable them in other operations, rebuild TensorFlow with the appropriate compiler flags.\n",
            "2022-11-05 00:25:10.012144: W tensorflow/stream_executor/platform/default/dso_loader.cc:64] Could not load dynamic library 'libcudart.so.11.0'; dlerror: libcudart.so.11.0: cannot open shared object file: No such file or directory\n",
            "2022-11-05 00:25:10.012203: I tensorflow/stream_executor/cuda/cudart_stub.cc:29] Ignore above cudart dlerror if you do not have a GPU set up on your machine.\n",
            "2022-11-05 00:25:10.624764: E tensorflow/stream_executor/cuda/cuda_blas.cc:2981] Unable to register cuBLAS factory: Attempting to register factory for plugin cuBLAS when one has already been registered\n",
            "2022-11-05 00:25:20.758549: W tensorflow/stream_executor/platform/default/dso_loader.cc:64] Could not load dynamic library 'libnvinfer.so.7'; dlerror: libnvinfer.so.7: cannot open shared object file: No such file or directory\n",
            "2022-11-05 00:25:20.759300: W tensorflow/stream_executor/platform/default/dso_loader.cc:64] Could not load dynamic library 'libnvinfer_plugin.so.7'; dlerror: libnvinfer_plugin.so.7: cannot open shared object file: No such file or directory\n",
            "2022-11-05 00:25:20.759344: W tensorflow/compiler/tf2tensorrt/utils/py_utils.cc:38] TF-TRT Warning: Cannot dlopen some TensorRT libraries. If you would like to use Nvidia GPU with TensorRT, please make sure the missing libraries mentioned above are installed properly.\n"
          ]
        }
      ],
      "source": [
        "from ibm_watson_machine_learning import APIClient\n",
        "from tensorflow.keras.models import load_model\n",
        "from tensorflow.keras.preprocessing import image\n",
        "import numpy as np\n",
        "import matplotlib.pyplot as plt"
      ]
    },
    {
      "cell_type": "markdown",
      "metadata": {
        "id": "fqbN7h_2z-np"
      },
      "source": [
        "# Uploading Model to IBM Cloud"
      ]
    },
    {
      "cell_type": "code",
      "execution_count": 3,
      "metadata": {
        "colab": {
          "base_uri": "https://localhost:8080/"
        },
        "id": "Nxuljvb_0F7C",
        "outputId": "301a6e96-4ad0-460c-ed3c-0780da723b18"
      },
      "outputs": [],
      "source": [
        "credentials = {\n",
        "    \"url\":\"https://eu-gb.ml.cloud.ibm.com\",\n",
        "    \"apikey\" : \"s0HK21dbDR63jtdmLdvIq0r0q_RHLkl133MRqDCdkmEZ\"\n",
        "}\n",
        "\n",
        "api = APIClient(credentials)"
      ]
    },
    {
      "cell_type": "code",
      "execution_count": 4,
      "metadata": {
        "colab": {
          "base_uri": "https://localhost:8080/"
        },
        "id": "jIntv6RD0UJm",
        "outputId": "a06c65e5-8b3f-4a39-f496-10733e637bec"
      },
      "outputs": [
        {
          "data": {
            "text/plain": [
              "{'resources': [{'entity': {'compute': [{'crn': 'crn:v1:bluemix:public:pm-20:eu-gb:a/837a51d718814baa8fda9acadef0bb18:a13f6364-0cf4-4c75-9fad-9d9fd97d44f3::',\n",
              "      'guid': 'a13f6364-0cf4-4c75-9fad-9d9fd97d44f3',\n",
              "      'name': 'Watson Machine Learning-jd',\n",
              "      'type': 'machine_learning'}],\n",
              "    'description': '',\n",
              "    'name': 'Cloud deployment test',\n",
              "    'scope': {'bss_account_id': '837a51d718814baa8fda9acadef0bb18'},\n",
              "    'stage': {'production': False},\n",
              "    'status': {'state': 'active'},\n",
              "    'storage': {'properties': {'bucket_name': 'b796efb7-e485-456a-9b37-b92fd0409632',\n",
              "      'bucket_region': 'eu-gb-standard',\n",
              "      'credentials': {'admin': {'access_key_id': '34e74fefa8ac4db287348f7a5caea900',\n",
              "        'api_key': 'aMXyiCoe9ZJ6YKHS9bnqx6WQClFDgkKlqf7wmreWrpwO',\n",
              "        'secret_access_key': 'fe645d8ef95a57325e7201756117f04b4b008eb06e58de5d',\n",
              "        'service_id': 'ServiceId-13f3997e-1b19-40b0-a43c-e66b5fd08c54'},\n",
              "       'editor': {'access_key_id': 'f027ae8641a145e080afccdd30141ae0',\n",
              "        'api_key': '7AqGvMPaM2-GNnWgt5SSFMt5XJXQ5H5kg38bGvfAkoZg',\n",
              "        'resource_key_crn': 'crn:v1:bluemix:public:cloud-object-storage:global:a/837a51d718814baa8fda9acadef0bb18:117857fb-8422-457c-9711-2eb4fa1c6cb6::',\n",
              "        'secret_access_key': '77e81e03e80d02e6dd2668536c50349e83230c627ea211bd',\n",
              "        'service_id': 'ServiceId-e70fadb5-4a3b-4a3d-bdc0-abfc8614e31e'},\n",
              "       'viewer': {'access_key_id': '5e853144949e4f128cbe740c5c17f80d',\n",
              "        'api_key': 'XaR_3UNnU_RuEGxFtvMVbmyD9t8KZvUwNQnkgNtbvj1r',\n",
              "        'resource_key_crn': 'crn:v1:bluemix:public:cloud-object-storage:global:a/837a51d718814baa8fda9acadef0bb18:117857fb-8422-457c-9711-2eb4fa1c6cb6::',\n",
              "        'secret_access_key': '4b772be4305ad33b76a22e2f86bcaf955680d20a4b8eae79',\n",
              "        'service_id': 'ServiceId-284646ba-c457-47fd-8e89-224292a21887'}},\n",
              "      'endpoint_url': 'https://s3.eu-gb.cloud-object-storage.appdomain.cloud',\n",
              "      'guid': '117857fb-8422-457c-9711-2eb4fa1c6cb6',\n",
              "      'resource_crn': 'crn:v1:bluemix:public:cloud-object-storage:global:a/837a51d718814baa8fda9acadef0bb18:117857fb-8422-457c-9711-2eb4fa1c6cb6::'},\n",
              "     'type': 'bmcos_object_storage'}},\n",
              "   'metadata': {'created_at': '2022-10-19T14:39:08.520Z',\n",
              "    'creator_id': 'IBMid-6630041AUI',\n",
              "    'id': '329fef0e-d078-4666-bd7d-04a6eed0cb96',\n",
              "    'updated_at': '2022-10-19T14:39:31.297Z',\n",
              "    'url': '/v2/spaces/329fef0e-d078-4666-bd7d-04a6eed0cb96'}},\n",
              "  {'entity': {'compute': [{'crn': 'crn:v1:bluemix:public:pm-20:eu-gb:a/837a51d718814baa8fda9acadef0bb18:a13f6364-0cf4-4c75-9fad-9d9fd97d44f3::',\n",
              "      'guid': 'a13f6364-0cf4-4c75-9fad-9d9fd97d44f3',\n",
              "      'name': 'Watson Machine Learning-jd',\n",
              "      'type': 'machine_learning'}],\n",
              "    'description': '',\n",
              "    'name': 'Forest Fire Detection Model ',\n",
              "    'scope': {'bss_account_id': '837a51d718814baa8fda9acadef0bb18'},\n",
              "    'stage': {'production': False},\n",
              "    'status': {'state': 'active'},\n",
              "    'storage': {'properties': {'bucket_name': 'e3bb1873-7ffa-4db8-9258-155f18b45539',\n",
              "      'bucket_region': 'eu-gb-standard',\n",
              "      'credentials': {'admin': {'access_key_id': 'fb927cb6b91645a9961e981749f5e94b',\n",
              "        'api_key': '7puuooOe-UHPdr1f8-qmkWIWB0z96OHVbqm9e4N4RleC',\n",
              "        'secret_access_key': '998afac8990c0b22dc4ffd58565350c5d2b24ee730d78f28',\n",
              "        'service_id': 'ServiceId-2e4579b2-8c23-454a-8efe-ad32a0f0077b'},\n",
              "       'editor': {'access_key_id': '71a766cbc46d46f5a0d68ba2e0492769',\n",
              "        'api_key': 'XNm8g7-i-5iKLiFlkrkGi0CQakdY2L0B4UmL9vHM8w3u',\n",
              "        'resource_key_crn': 'crn:v1:bluemix:public:cloud-object-storage:global:a/837a51d718814baa8fda9acadef0bb18:117857fb-8422-457c-9711-2eb4fa1c6cb6::',\n",
              "        'secret_access_key': '79666fb525b3c60d89ad0c601bcfbd37f180f8b68b2b7848',\n",
              "        'service_id': 'ServiceId-1cd3f9c2-1a8e-4fab-a715-eed8676105f3'},\n",
              "       'viewer': {'access_key_id': 'd60fa5ed47fb48cdb6e42a7ee4055f44',\n",
              "        'api_key': 'UZzoHOi9SouElPeFUw3yTsyim1y-z0Cq9nEaJrV1tHGq',\n",
              "        'resource_key_crn': 'crn:v1:bluemix:public:cloud-object-storage:global:a/837a51d718814baa8fda9acadef0bb18:117857fb-8422-457c-9711-2eb4fa1c6cb6::',\n",
              "        'secret_access_key': '325da735428b6fbdb2ab2162d189ade219d556d5da91f3c1',\n",
              "        'service_id': 'ServiceId-27c09cff-9dc5-4f0d-8b95-0c1e642efa90'}},\n",
              "      'endpoint_url': 'https://s3.eu-gb.cloud-object-storage.appdomain.cloud',\n",
              "      'guid': '117857fb-8422-457c-9711-2eb4fa1c6cb6',\n",
              "      'resource_crn': 'crn:v1:bluemix:public:cloud-object-storage:global:a/837a51d718814baa8fda9acadef0bb18:117857fb-8422-457c-9711-2eb4fa1c6cb6::'},\n",
              "     'type': 'bmcos_object_storage'}},\n",
              "   'metadata': {'created_at': '2022-11-04T18:08:30.634Z',\n",
              "    'creator_id': 'IBMid-6630041AUI',\n",
              "    'id': '624635ca-ed0d-41a7-a1b1-5a73e856c950',\n",
              "    'updated_at': '2022-11-04T18:08:48.693Z',\n",
              "    'url': '/v2/spaces/624635ca-ed0d-41a7-a1b1-5a73e856c950'}}]}"
            ]
          },
          "execution_count": 4,
          "metadata": {},
          "output_type": "execute_result"
        }
      ],
      "source": [
        "api.spaces.get_details()"
      ]
    },
    {
      "cell_type": "code",
      "execution_count": 5,
      "metadata": {
        "colab": {
          "base_uri": "https://localhost:8080/"
        },
        "id": "3EyCXjVX0WfJ",
        "outputId": "3fe7f3d1-ba3b-478c-a7d5-ab5285fcac4e"
      },
      "outputs": [
        {
          "name": "stdout",
          "output_type": "stream",
          "text": [
            "Note: 'limit' is not provided. Only first 50 records will be displayed if the number of records exceed 50\n",
            "------------------------------------  ---------------------------  ------------------------\n",
            "ID                                    NAME                         CREATED\n",
            "624635ca-ed0d-41a7-a1b1-5a73e856c950  Forest Fire Detection Model  2022-11-04T18:08:30.634Z\n",
            "329fef0e-d078-4666-bd7d-04a6eed0cb96  Cloud deployment test        2022-10-19T14:39:08.520Z\n",
            "------------------------------------  ---------------------------  ------------------------\n"
          ]
        }
      ],
      "source": [
        "api.spaces.list()"
      ]
    },
    {
      "cell_type": "code",
      "execution_count": 6,
      "metadata": {
        "colab": {
          "base_uri": "https://localhost:8080/",
          "height": 36
        },
        "id": "Y3EOA-4u3M2e",
        "outputId": "46f255f0-f520-4cdd-d264-88368b0aca9f"
      },
      "outputs": [
        {
          "data": {
            "text/plain": [
              "'SUCCESS'"
            ]
          },
          "execution_count": 6,
          "metadata": {},
          "output_type": "execute_result"
        }
      ],
      "source": [
        "id = '624635ca-ed0d-41a7-a1b1-5a73e856c950'\n",
        "\n",
        "api.set.default_space(id)"
      ]
    },
    {
      "cell_type": "code",
      "execution_count": 7,
      "metadata": {
        "colab": {
          "base_uri": "https://localhost:8080/"
        },
        "id": "GnJkOyDR3UEb",
        "outputId": "aa647f58-a882-4a1a-82c9-7a81b4d63f00"
      },
      "outputs": [
        {
          "name": "stdout",
          "output_type": "stream",
          "text": [
            "-----------------------------  ------------------------------------  ----\n",
            "NAME                           ASSET_ID                              TYPE\n",
            "default_py3.6                  0062b8c9-8b7d-44a0-a9b9-46c416adcbd9  base\n",
            "kernel-spark3.2-scala2.12      020d69ce-7ac1-5e68-ac1a-31189867356a  base\n",
            "pytorch-onnx_1.3-py3.7-edt     069ea134-3346-5748-b513-49120e15d288  base\n",
            "scikit-learn_0.20-py3.6        09c5a1d0-9c1e-4473-a344-eb7b665ff687  base\n",
            "spark-mllib_3.0-scala_2.12     09f4cff0-90a7-5899-b9ed-1ef348aebdee  base\n",
            "pytorch-onnx_rt22.1-py3.9      0b848dd4-e681-5599-be41-b5f6fccc6471  base\n",
            "ai-function_0.1-py3.6          0cdb0f1e-5376-4f4d-92dd-da3b69aa9bda  base\n",
            "shiny-r3.6                     0e6e79df-875e-4f24-8ae9-62dcc2148306  base\n",
            "tensorflow_2.4-py3.7-horovod   1092590a-307d-563d-9b62-4eb7d64b3f22  base\n",
            "pytorch_1.1-py3.6              10ac12d6-6b30-4ccd-8392-3e922c096a92  base\n",
            "tensorflow_1.15-py3.6-ddl      111e41b3-de2d-5422-a4d6-bf776828c4b7  base\n",
            "runtime-22.1-py3.9             12b83a17-24d8-5082-900f-0ab31fbfd3cb  base\n",
            "scikit-learn_0.22-py3.6        154010fa-5b3b-4ac1-82af-4d5ee5abbc85  base\n",
            "default_r3.6                   1b70aec3-ab34-4b87-8aa0-a4a3c8296a36  base\n",
            "pytorch-onnx_1.3-py3.6         1bc6029a-cc97-56da-b8e0-39c3880dbbe7  base\n",
            "kernel-spark3.3-r3.6           1c9e5454-f216-59dd-a20e-474a5cdf5988  base\n",
            "pytorch-onnx_rt22.1-py3.9-edt  1d362186-7ad5-5b59-8b6c-9d0880bde37f  base\n",
            "tensorflow_2.1-py3.6           1eb25b84-d6ed-5dde-b6a5-3fbdf1665666  base\n",
            "spark-mllib_3.2                20047f72-0a98-58c7-9ff5-a77b012eb8f5  base\n",
            "tensorflow_2.4-py3.8-horovod   217c16f6-178f-56bf-824a-b19f20564c49  base\n",
            "runtime-22.1-py3.9-cuda        26215f05-08c3-5a41-a1b0-da66306ce658  base\n",
            "do_py3.8                       295addb5-9ef9-547e-9bf4-92ae3563e720  base\n",
            "autoai-ts_3.8-py3.8            2aa0c932-798f-5ae9-abd6-15e0c2402fb5  base\n",
            "tensorflow_1.15-py3.6          2b73a275-7cbf-420b-a912-eae7f436e0bc  base\n",
            "kernel-spark3.3-py3.9          2b7961e2-e3b1-5a8c-a491-482c8368839a  base\n",
            "pytorch_1.2-py3.6              2c8ef57d-2687-4b7d-acce-01f94976dac1  base\n",
            "spark-mllib_2.3                2e51f700-bca0-4b0d-88dc-5c6791338875  base\n",
            "pytorch-onnx_1.1-py3.6-edt     32983cea-3f32-4400-8965-dde874a8d67e  base\n",
            "spark-mllib_3.0-py37           36507ebe-8770-55ba-ab2a-eafe787600e9  base\n",
            "spark-mllib_2.4                390d21f8-e58b-4fac-9c55-d7ceda621326  base\n",
            "xgboost_0.82-py3.6             39e31acd-5f30-41dc-ae44-60233c80306e  base\n",
            "pytorch-onnx_1.2-py3.6-edt     40589d0e-7019-4e28-8daa-fb03b6f4fe12  base\n",
            "default_r36py38                41c247d3-45f8-5a71-b065-8580229facf0  base\n",
            "autoai-ts_rt22.1-py3.9         4269d26e-07ba-5d40-8f66-2d495b0c71f7  base\n",
            "autoai-obm_3.0                 42b92e18-d9ab-567f-988a-4240ba1ed5f7  base\n",
            "pmml-3.0_4.3                   493bcb95-16f1-5bc5-bee8-81b8af80e9c7  base\n",
            "spark-mllib_2.4-r_3.6          49403dff-92e9-4c87-a3d7-a42d0021c095  base\n",
            "xgboost_0.90-py3.6             4ff8d6c2-1343-4c18-85e1-689c965304d3  base\n",
            "pytorch-onnx_1.1-py3.6         50f95b2a-bc16-43bb-bc94-b0bed208c60b  base\n",
            "autoai-ts_3.9-py3.8            52c57136-80fa-572e-8728-a5e7cbb42cde  base\n",
            "spark-mllib_2.4-scala_2.11     55a70f99-7320-4be5-9fb9-9edb5a443af5  base\n",
            "spark-mllib_3.0                5c1b0ca2-4977-5c2e-9439-ffd44ea8ffe9  base\n",
            "autoai-obm_2.0                 5c2e37fa-80b8-5e77-840f-d912469614ee  base\n",
            "spss-modeler_18.1              5c3cad7e-507f-4b2a-a9a3-ab53a21dee8b  base\n",
            "cuda-py3.8                     5d3232bf-c86b-5df4-a2cd-7bb870a1cd4e  base\n",
            "autoai-kb_3.1-py3.7            632d4b22-10aa-5180-88f0-f52dfb6444d7  base\n",
            "pytorch-onnx_1.7-py3.8         634d3cdc-b562-5bf9-a2d4-ea90a478456b  base\n",
            "spark-mllib_2.3-r_3.6          6586b9e3-ccd6-4f92-900f-0f8cb2bd6f0c  base\n",
            "tensorflow_2.4-py3.7           65e171d7-72d1-55d9-8ebb-f813d620c9bb  base\n",
            "spss-modeler_18.2              687eddc9-028a-4117-b9dd-e57b36f1efa5  base\n",
            "-----------------------------  ------------------------------------  ----\n",
            "Note: Only first 50 records were displayed. To display more use 'limit' parameter.\n"
          ]
        }
      ],
      "source": [
        "api.software_specifications.list()"
      ]
    },
    {
      "cell_type": "code",
      "execution_count": 8,
      "metadata": {
        "colab": {
          "base_uri": "https://localhost:8080/",
          "height": 36
        },
        "id": "GDG4KTX63Z1c",
        "outputId": "26aea9c0-1baf-4db9-d4ad-396fc5f45693"
      },
      "outputs": [
        {
          "data": {
            "text/plain": [
              "'acd9c798-6974-5d2f-a657-ce06e986df4d'"
            ]
          },
          "execution_count": 8,
          "metadata": {},
          "output_type": "execute_result"
        }
      ],
      "source": [
        "software_space_uid = api.software_specifications.get_uid_by_name(\"tensorflow_rt22.1-py3.9\")\n",
        "software_space_uid"
      ]
    },
    {
      "cell_type": "markdown",
      "metadata": {
        "id": "yY68Capt3nNJ"
      },
      "source": [
        "## Load and Zip Model file"
      ]
    },
    {
      "cell_type": "code",
      "execution_count": 9,
      "metadata": {
        "id": "ScOudwSG3joJ"
      },
      "outputs": [
        {
          "name": "stderr",
          "output_type": "stream",
          "text": [
            "2022-11-05 00:26:26.826626: W tensorflow/stream_executor/platform/default/dso_loader.cc:64] Could not load dynamic library 'libcuda.so.1'; dlerror: libcuda.so.1: cannot open shared object file: No such file or directory\n",
            "2022-11-05 00:26:26.873810: W tensorflow/stream_executor/cuda/cuda_driver.cc:263] failed call to cuInit: UNKNOWN ERROR (303)\n",
            "2022-11-05 00:26:26.873953: I tensorflow/stream_executor/cuda/cuda_diagnostics.cc:156] kernel driver does not appear to be running on this host (zeus): /proc/driver/nvidia/version does not exist\n",
            "2022-11-05 00:26:26.963303: I tensorflow/core/platform/cpu_feature_guard.cc:193] This TensorFlow binary is optimized with oneAPI Deep Neural Network Library (oneDNN) to use the following CPU instructions in performance-critical operations:  AVX2 FMA\n",
            "To enable them in other operations, rebuild TensorFlow with the appropriate compiler flags.\n"
          ]
        }
      ],
      "source": [
        "model = load_model('Files/forest1.h5')"
      ]
    },
    {
      "cell_type": "code",
      "execution_count": null,
      "metadata": {
        "colab": {
          "base_uri": "https://localhost:8080/"
        },
        "id": "XGbjvBhK3iSH",
        "outputId": "e5b0d5d7-f59e-460e-ab1c-e5299719c225"
      },
      "outputs": [],
      "source": [
        "!tar -zcvf forest1.tgz Files/forest1.h5"
      ]
    },
    {
      "cell_type": "markdown",
      "metadata": {
        "id": "6UNuloyt4kY1"
      },
      "source": [
        "## Deploy"
      ]
    },
    {
      "cell_type": "code",
      "execution_count": 11,
      "metadata": {
        "id": "FASeSD9_4ivq"
      },
      "outputs": [],
      "source": [
        "model_details = api.repository.store_model(model=\"forest1.tgz\", meta_props={\n",
        "    api.repository.ModelMetaNames.NAME:\"Forest Fire Model\",\n",
        "    api.repository.ModelMetaNames.TYPE:\"tensorflow_2.7\",\n",
        "    api.repository.ModelMetaNames.SOFTWARE_SPEC_UID:software_space_uid\n",
        "})"
      ]
    },
    {
      "cell_type": "code",
      "execution_count": 12,
      "metadata": {
        "colab": {
          "base_uri": "https://localhost:8080/"
        },
        "id": "RmaM9Xxo4vKy",
        "outputId": "328f3e6a-8b9b-4dc2-ded2-b467a457e00e"
      },
      "outputs": [
        {
          "data": {
            "text/plain": [
              "{'entity': {'hybrid_pipeline_software_specs': [],\n",
              "  'software_spec': {'id': 'acd9c798-6974-5d2f-a657-ce06e986df4d',\n",
              "   'name': 'tensorflow_rt22.1-py3.9'},\n",
              "  'type': 'tensorflow_2.7'},\n",
              " 'metadata': {'created_at': '2022-11-04T18:57:25.016Z',\n",
              "  'id': '003a5d7c-3803-4c9b-b9f4-41c82865045f',\n",
              "  'modified_at': '2022-11-04T18:58:27.021Z',\n",
              "  'name': 'Forest Fire Model',\n",
              "  'owner': 'IBMid-6630041AUI',\n",
              "  'resource_key': 'cf0d2091-e5f4-4805-a78b-4415d07f1f4d',\n",
              "  'space_id': '624635ca-ed0d-41a7-a1b1-5a73e856c950'},\n",
              " 'system': {'warnings': []}}"
            ]
          },
          "execution_count": 12,
          "metadata": {},
          "output_type": "execute_result"
        }
      ],
      "source": [
        "model_details"
      ]
    },
    {
      "cell_type": "code",
      "execution_count": 13,
      "metadata": {
        "colab": {
          "base_uri": "https://localhost:8080/",
          "height": 36
        },
        "id": "NTg_KMU8406d",
        "outputId": "d2ff415d-08b5-47bb-a540-8dfdbfbb364e"
      },
      "outputs": [
        {
          "data": {
            "text/plain": [
              "'003a5d7c-3803-4c9b-b9f4-41c82865045f'"
            ]
          },
          "execution_count": 13,
          "metadata": {},
          "output_type": "execute_result"
        }
      ],
      "source": [
        "model_id = api.repository.get_model_id(model_details)\n",
        "model_id"
      ]
    },
    {
      "cell_type": "markdown",
      "metadata": {
        "id": "hHyZvG545-DD"
      },
      "source": [
        "# Download And Test"
      ]
    },
    {
      "cell_type": "code",
      "execution_count": 14,
      "metadata": {
        "colab": {
          "base_uri": "https://localhost:8080/",
          "height": 53
        },
        "id": "d5e6ke7c40sQ",
        "outputId": "a52aaf77-8c8a-401e-e29e-7a77f57b2755"
      },
      "outputs": [
        {
          "name": "stdout",
          "output_type": "stream",
          "text": [
            "Successfully saved model content to file: 'IBM_Model.tgz'\n"
          ]
        },
        {
          "data": {
            "text/plain": [
              "'/home/dhinesh/temp/Program-Files/Python/AI/IBM/Final Delverable/IBM_Model.tgz'"
            ]
          },
          "execution_count": 14,
          "metadata": {},
          "output_type": "execute_result"
        }
      ],
      "source": [
        "api.repository.download(model_id,'IBM_Model.tgz')"
      ]
    },
    {
      "cell_type": "code",
      "execution_count": 15,
      "metadata": {
        "id": "r6CLGd6y70sF"
      },
      "outputs": [],
      "source": [
        "import tarfile\n",
        "\n",
        "def extract(tar_url='IBM_Model.tgz', extract_path='.'):\n",
        "    tar = tarfile.open(tar_url, 'r')\n",
        "    for item in tar:\n",
        "        tar.extract(item, extract_path)\n",
        "        if item.name.find(\".tgz\") != -1 or item.name.find(\".tar\") != -1:\n",
        "            extract(item.name, \"./\" + item.name[:item.name.rfind('/')])\n",
        "\n",
        "extract()"
      ]
    },
    {
      "cell_type": "code",
      "execution_count": 17,
      "metadata": {
        "id": "3cneByGT6B6F"
      },
      "outputs": [],
      "source": [
        "d_model = load_model('Files/forest1.h5')"
      ]
    },
    {
      "cell_type": "code",
      "execution_count": 18,
      "metadata": {
        "id": "hbL8BueZ9Gy5"
      },
      "outputs": [],
      "source": [
        "def testing(img):\n",
        "    classes = ['No Issues', 'There is Fire!!']\n",
        "    img = image.load_img(img,target_size=(64,64)) \n",
        "    x = image.img_to_array(img) \n",
        "    x = np.expand_dims(x,axis=0) \n",
        "    pred = d_model.predict(x).flatten()\n",
        "    print(\"Predicted class as:\",classes[1] if pred else classes[0])\n",
        "\n",
        "def img_show(img):\n",
        "    img1 = image.load_img(img,target_size=(64,64)) \n",
        "    plt.imshow(img1)"
      ]
    },
    {
      "cell_type": "code",
      "execution_count": 19,
      "metadata": {
        "id": "-YIR8BkY92wU"
      },
      "outputs": [
        {
          "name": "stdout",
          "output_type": "stream",
          "text": [
            "1/1 [==============================] - 3s 3s/step\n",
            "Predicted class as: There is Fire!!\n"
          ]
        },
        {
          "data": {
            "image/png": "[encoded data removed]",
            "text/plain": [
              "<Figure size 640x480 with 1 Axes>"
            ]
          },
          "metadata": {},
          "output_type": "display_data"
        }
      ],
      "source": [
        "# Test 1\n",
        "\n",
        "img_show('Dataset/test_set/with fire/cumming_forest_fires.jpg')\n",
        "testing('Dataset/test_set/with fire/cumming_forest_fires.jpg')"
      ]
    },
    {
      "cell_type": "code",
      "execution_count": 20,
      "metadata": {
        "id": "WfsBOqbS97HP"
      },
      "outputs": [
        {
          "name": "stdout",
          "output_type": "stream",
          "text": [
            "1/1 [==============================] - 0s 89ms/step\n",
            "Predicted class as: No Issues\n"
          ]
        },
        {
          "data": {
            "image/png": "[encoded data removed]",
            "text/plain": [
              "<Figure size 640x480 with 1 Axes>"
            ]
          },
          "metadata": {},
          "output_type": "display_data"
        }
      ],
      "source": [
        "# Test 2\n",
        "\n",
        "img_show('Dataset/test_set/forest/0.98884800_1554454572_spin.jpg')\n",
        "testing('Dataset/test_set/forest/0.98884800_1554454572_spin.jpg')"
      ]
    }
  ],
  "metadata": {
    "colab": {
      "provenance": []
    },
    "kernelspec": {
      "display_name": "Python 3.10.6 64-bit",
      "language": "python",
      "name": "python3"
    },
    "language_info": {
      "codemirror_mode": {
        "name": "ipython",
        "version": 3
      },
      "file_extension": ".py",
      "mimetype": "text/x-python",
      "name": "python",
      "nbconvert_exporter": "python",
      "pygments_lexer": "ipython3",
      "version": "3.10.6"
    },
    "vscode": {
      "interpreter": {
        "hash": "31f2aee4e71d21fbe5cf8b01ff0e069b9275f58929596ceb00d14d90e3e16cd6"
      }
    }
  },
  "nbformat": 4,
  "nbformat_minor": 0
}
